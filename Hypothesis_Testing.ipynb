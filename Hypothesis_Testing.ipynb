{
 "cells": [
  {
   "cell_type": "code",
   "execution_count": null,
   "metadata": {},
   "outputs": [],
   "source": [
    "%matplotlib nbagg\n",
    "%matplotlib inline\n",
    "\n",
    "import warnings\n",
    "import pandas as pd\n",
    "import numpy as np\n",
    "import scipy as sp\n",
    "import matplotlib.pyplot as plt\n",
    "import ipywidgets as widgets\n",
    "import datetime \n",
    "from mpl_toolkits.mplot3d import Axes3D\n",
    "from numpy.linalg import pinv\n",
    "from scipy.stats import multivariate_normal\n",
    "from mpl_toolkits import mplot3d\n",
    "from pylab import rcParams\n",
    "import seaborn as sns; sns.set()"
   ]
  },
  {
   "cell_type": "code",
   "execution_count": null,
   "metadata": {},
   "outputs": [],
   "source": [
    "pd.set_option('display.max_rows', None)\n",
    "df = pd.read_excel ('Desktop/yard.xlsx')"
   ]
  },
  {
   "cell_type": "code",
   "execution_count": null,
   "metadata": {},
   "outputs": [],
   "source": [
    "df"
   ]
  },
  {
   "cell_type": "code",
   "execution_count": null,
   "metadata": {},
   "outputs": [],
   "source": [
    "df['Time'] = pd.to_timedelta(df['Time'].astype(str))"
   ]
  },
  {
   "cell_type": "code",
   "execution_count": null,
   "metadata": {},
   "outputs": [],
   "source": [
    "df.dtypes"
   ]
  },
  {
   "cell_type": "code",
   "execution_count": null,
   "metadata": {},
   "outputs": [],
   "source": [
    " new_df = df.drop(['Type of courtyard', 'PPD  (%)'], axis=1)"
   ]
  },
  {
   "cell_type": "code",
   "execution_count": null,
   "metadata": {},
   "outputs": [],
   "source": [
    "new_df"
   ]
  },
  {
   "cell_type": "code",
   "execution_count": null,
   "metadata": {},
   "outputs": [],
   "source": [
    "new_df1 = new_df.set_index('Time')\n",
    "new_df1"
   ]
  },
  {
   "cell_type": "markdown",
   "metadata": {},
   "source": [
    "# Hypothesis Testing\n",
    "Hypothesis testing is an act in statistics whereby an analyst tests an assumption regarding a population parameter. The methodology employed by the analyst depends on the nature of the data used and the reason for the analysis."
   ]
  },
  {
   "cell_type": "code",
   "execution_count": null,
   "metadata": {},
   "outputs": [],
   "source": [
    "from scipy.stats import shapiro\n",
    "DataToTest = new_df1['Wind speed  (m/s)']\n",
    "\n",
    "stat , p = shapiro(DataToTest)\n",
    "\n",
    "print('stat=%.2f, p=%.30f' % (stat, p))\n",
    "\n",
    "if p > 0.05:\n",
    "    print('Normal distribution')\n",
    "else:\n",
    "    print('Not a normal distribution')"
   ]
  },
  {
   "cell_type": "code",
   "execution_count": null,
   "metadata": {},
   "outputs": [],
   "source": [
    "from scipy.stats import normaltest\n",
    "from numpy.random import randn\n",
    "DataToTest = randn(100)\n",
    "stat , p = normaltest(DataToTest)\n",
    "print('stat=%.2f, p=%.30f' % (stat, p))\n",
    "\n",
    "if p > 0.05:\n",
    "    print('Normal distribution')\n",
    "else:\n",
    "    print('Not a normal distribution')"
   ]
  },
  {
   "cell_type": "code",
   "execution_count": null,
   "metadata": {},
   "outputs": [],
   "source": [
    "# Example of the D'Agostino's K^2 Normality Test\n",
    "from scipy.stats import normaltest\n",
    "DataToTest = new_df1['Wind speed  (m/s)']\n",
    "\n",
    "stat , p =  normaltest(DataToTest)\n",
    "\n",
    "print('stat=%.2f, p=%.30f' % (stat, p))\n",
    "\n",
    "if p > 0.05:\n",
    "    print('Normal distribution')\n",
    "else:\n",
    "    print('Not a normal distribution')"
   ]
  },
  {
   "cell_type": "code",
   "execution_count": null,
   "metadata": {
    "scrolled": true
   },
   "outputs": [],
   "source": [
    "new_df1.corr(method = 'pearson')"
   ]
  },
  {
   "cell_type": "code",
   "execution_count": null,
   "metadata": {},
   "outputs": [],
   "source": [
    "new_df1.corr(method = 'spearman')"
   ]
  },
  {
   "cell_type": "code",
   "execution_count": null,
   "metadata": {},
   "outputs": [],
   "source": [
    "#Searman Rank Correlation\n",
    "from scipy.stats import spearmanr\n",
    "stat , p = spearmanr(new_df1['PMV'], new_df1['Wind speed  (m/s)'])\n",
    "\n",
    "print('stat=%.2f, p=%.30f' % (stat, p))\n",
    "\n",
    "if p > 0.05:\n",
    "    print('independent variable')\n",
    "else:\n",
    "    print('dependent variavle')"
   ]
  },
  {
   "cell_type": "code",
   "execution_count": null,
   "metadata": {},
   "outputs": [],
   "source": [
    "#pearson  Correlation\n",
    "from scipy.stats import pearsonr\n",
    "stat , p = pearsonr(new_df1['PMV'], new_df1['Wind speed  (m/s)'])\n",
    "\n",
    "print('stat=%.2f, p=%.30f' % (stat, p))\n",
    "\n",
    "if p > 0.05:\n",
    "    print('independent variable')\n",
    "else:\n",
    "    print('dependent variavle')"
   ]
  },
  {
   "cell_type": "code",
   "execution_count": null,
   "metadata": {},
   "outputs": [],
   "source": [
    "#pearson  Correlation\n",
    "from scipy.stats import pearsonr\n",
    "stat , p = pearsonr(new_df1['PMV'], new_df1['Air temperature  (°C)'])\n",
    "\n",
    "print('stat=%.2f, p=%.30f' % (stat, p))\n",
    "\n",
    "if p > 0.05:\n",
    "    print('independent variable')\n",
    "else:\n",
    "    print('dependent variavle')"
   ]
  },
  {
   "cell_type": "code",
   "execution_count": null,
   "metadata": {},
   "outputs": [],
   "source": [
    "from pingouin import corr"
   ]
  },
  {
   "cell_type": "code",
   "execution_count": null,
   "metadata": {},
   "outputs": [],
   "source": [
    "corr(new_df1['PMV'], new_df1['Air temperature  (°C)'])"
   ]
  },
  {
   "cell_type": "code",
   "execution_count": null,
   "metadata": {},
   "outputs": [],
   "source": [
    "sns.jointplot(x=new_df1['PMV'], y=new_df1['Air temperature  (°C)'], kind='reg')"
   ]
  },
  {
   "cell_type": "code",
   "execution_count": null,
   "metadata": {},
   "outputs": [],
   "source": [
    "p = sns.pairplot(new_df1, x_vars = 'Air temperature  (°C)',\n",
    "             y_vars = 'PMV', size = 5, aspect = 1.2, kind = 'reg')\n",
    "\n",
    "plt.suptitle('General: PMV & Air temperature', fontsize=13)\n",
    "\n",
    "p.fig.text(0.20, 0.88, 'pearsonr=0.75 p=0.0 ', style='italic', fontsize=12,\n",
    "        bbox={'facecolor': 'gray', 'alpha': 0.5, 'pad': 10})"
   ]
  },
  {
   "cell_type": "code",
   "execution_count": null,
   "metadata": {},
   "outputs": [],
   "source": [
    "#pearson  Correlation\n",
    "from scipy.stats import pearsonr\n",
    "stat , p = pearsonr(new_df1['PMV'], new_df1['Mean Radiant Temperature  (°C)'])\n",
    "\n",
    "print('stat=%.2f, p=%.30f' % (stat, p))\n",
    "\n",
    "if p > 0.05:\n",
    "    print('independent variable')\n",
    "else:\n",
    "    print('dependent variavle')"
   ]
  },
  {
   "cell_type": "code",
   "execution_count": null,
   "metadata": {},
   "outputs": [],
   "source": [
    "p = sns.pairplot(new_df1, x_vars = 'Mean Radiant Temperature  (°C)',\n",
    "             y_vars = 'PMV', size = 5, aspect = 1.2, kind = 'reg')\n",
    "\n",
    "plt.suptitle('General: PMV & Mean Radiant Temperature', fontsize=13)\n",
    "\n",
    "p.fig.text(0.20, 0.88, 'pearsonr=0.95  p=0.0 ', style='italic', fontsize=12,\n",
    "        bbox={'facecolor': 'gray', 'alpha': 0.5, 'pad': 10})"
   ]
  },
  {
   "cell_type": "code",
   "execution_count": null,
   "metadata": {},
   "outputs": [],
   "source": [
    "#pearson  Correlation\n",
    "from scipy.stats import pearsonr\n",
    "stat , p = pearsonr(new_df1['PMV'], new_df1['Relative Humidity  (%)'])\n",
    "\n",
    "print('stat=%.2f, p=%.30f' % (stat, p))\n",
    "\n",
    "if p > 0.05:\n",
    "    print('independent variable')\n",
    "else:\n",
    "    print('dependent variavle')"
   ]
  },
  {
   "cell_type": "code",
   "execution_count": null,
   "metadata": {},
   "outputs": [],
   "source": [
    "p = sns.pairplot(new_df1, x_vars = 'Relative Humidity  (%)',\n",
    "             y_vars = 'PMV', size = 5, aspect = 1.2, kind = 'reg')\n",
    "\n",
    "plt.suptitle('General: PMV & Relative Humidity', fontsize=13)\n",
    "\n",
    "p.fig.text(0.64, 0.88, 'pearsonr=-0.66  p=0.0 ', style='italic', fontsize=12,\n",
    "        bbox={'facecolor': 'gray', 'alpha': 0.5, 'pad': 10})"
   ]
  },
  {
   "cell_type": "code",
   "execution_count": null,
   "metadata": {},
   "outputs": [],
   "source": [
    "#pearson  Correlation\n",
    "from scipy.stats import pearsonr\n",
    "stat , p = pearsonr(new_df1['Wind speed  (m/s)'], new_df1['Relative Humidity  (%)'])\n",
    "\n",
    "print('stat=%.2f, p=%.30f' % (stat, p))\n",
    "\n",
    "if p > 0.05:\n",
    "    print('independent variable')\n",
    "else:\n",
    "    print('dependent variavle')"
   ]
  },
  {
   "cell_type": "code",
   "execution_count": null,
   "metadata": {},
   "outputs": [],
   "source": [
    "my_score = [23,21,31,20,19,35,26,22,21,19]\n",
    "virat_score = [46,42,62,40,38,70,52,44,42,38]"
   ]
  },
  {
   "cell_type": "code",
   "execution_count": null,
   "metadata": {},
   "outputs": [],
   "source": [
    "'''\n",
    "In parametric test, normality is main assumptions\n",
    "'''\n",
    "DataToTest = my_score\n",
    "stat , p = normaltest(DataToTest)\n",
    "print('stat=%.2f, p=%.30f' % (stat, p))\n",
    "\n",
    "if p > 0.05:\n",
    "    print('Normal distribution')\n",
    "else:\n",
    "    print('Not a normal distribution')"
   ]
  },
  {
   "cell_type": "code",
   "execution_count": null,
   "metadata": {},
   "outputs": [],
   "source": [
    "print('my mean score:', np.mean(my_score))\n",
    "print('virat mean score:', np.mean(virat_score))"
   ]
  },
  {
   "cell_type": "code",
   "execution_count": null,
   "metadata": {},
   "outputs": [],
   "source": [
    "#One Sample T-test\n",
    "import scipy\n",
    "scipy.stats.ttest_1samp(my_score, 15)"
   ]
  },
  {
   "cell_type": "code",
   "execution_count": null,
   "metadata": {},
   "outputs": [],
   "source": [
    "#Independent sample T-test\n",
    "scipy.stats.ttest_ind(my_score, virat_score)"
   ]
  },
  {
   "cell_type": "code",
   "execution_count": null,
   "metadata": {},
   "outputs": [],
   "source": [
    "my_score_second_Tour = [46,42,62,40,38,70,52,44,42,38]"
   ]
  },
  {
   "cell_type": "code",
   "execution_count": null,
   "metadata": {},
   "outputs": [],
   "source": [
    "#Paired Samples T-tset\n",
    "scipy.stats.ttest_rel(my_score, my_score_second_Tour)"
   ]
  },
  {
   "cell_type": "code",
   "execution_count": null,
   "metadata": {},
   "outputs": [],
   "source": [
    "average_score = [40,44,60,50,48,68,55,46,44,54]"
   ]
  },
  {
   "cell_type": "code",
   "execution_count": null,
   "metadata": {},
   "outputs": [],
   "source": [
    "my_score"
   ]
  },
  {
   "cell_type": "code",
   "execution_count": null,
   "metadata": {},
   "outputs": [],
   "source": [
    "average_score"
   ]
  },
  {
   "cell_type": "code",
   "execution_count": null,
   "metadata": {},
   "outputs": [],
   "source": [
    "virat_score"
   ]
  },
  {
   "cell_type": "code",
   "execution_count": null,
   "metadata": {},
   "outputs": [],
   "source": [
    "'''\n",
    "In Anova test, like T-test Normal Distribution, \n",
    "Same Variance and Identical Distribution is Assumption\n",
    "'''\n",
    "\n",
    "stat , p = scipy.stats.f_oneway(my_score, average_score, virat_score)\n",
    "print('stat=%.2f, p=%.30f' % (stat, p))\n",
    "\n",
    "if p > 0.05:\n",
    "    print('Same distributions of scores')\n",
    "else:\n",
    "    print('Different distributions of scores')"
   ]
  },
  {
   "cell_type": "code",
   "execution_count": null,
   "metadata": {},
   "outputs": [],
   "source": [
    "class_1_score = [91,90,81,80,76]\n",
    "class_2_score = [88,86,85,84,83]"
   ]
  },
  {
   "cell_type": "code",
   "execution_count": null,
   "metadata": {},
   "outputs": [],
   "source": [
    "'''\n",
    "In Non Parametric test, like Mann-Whitney U test, Identical Distribution is Assumption. also \n",
    "observations can be ranked.\n",
    "'''\n",
    "stat , p = scipy.stats.mannwhitneyu(class_1_score, class_2_score)\n",
    "print('stat=%.2f, p=%.30f' % (stat, p))\n",
    "\n",
    "if p > 0.05:\n",
    "    print('Same distributions of scores')\n",
    "else:\n",
    "    print('Different distributions of scores')"
   ]
  },
  {
   "cell_type": "code",
   "execution_count": null,
   "metadata": {},
   "outputs": [],
   "source": [
    "'''\n",
    "Augmented Dickey-Fuller Test - null hypothesis - Series is non stationary\n",
    "Definition of stationary time series - constant mean and variance\n",
    "'''\n",
    "from statsmodels.tsa.stattools import adfuller\n",
    "stock_price_data = [121, 131, 142, 138, 139, 142, 156, 168, 165]\n",
    "stat, p , lags, cbs, crit, t = adfuller(stock_price_data)"
   ]
  },
  {
   "cell_type": "code",
   "execution_count": null,
   "metadata": {},
   "outputs": [],
   "source": [
    "print('stat=%.2f, p=%.30f' % (stat, p))\n",
    "\n",
    "if p > 0.05:\n",
    "    print('Series is not Stationary')\n",
    "else:\n",
    "    print('Series is Stationary')"
   ]
  },
  {
   "cell_type": "code",
   "execution_count": null,
   "metadata": {},
   "outputs": [],
   "source": [
    "df1 = pd.read_excel ('Desktop/Soil.xlsx')\n",
    "df1.head()"
   ]
  },
  {
   "cell_type": "markdown",
   "metadata": {},
   "source": [
    "# Multi Variable comparison table"
   ]
  },
  {
   "cell_type": "code",
   "execution_count": null,
   "metadata": {},
   "outputs": [],
   "source": [
    "DataToTest = df1['Silt']\n",
    "\n",
    "stat , p =  normaltest(DataToTest)\n",
    "\n",
    "print('stat=%.2f, p=%.30f' % (stat, p))\n",
    "\n",
    "if p > 0.05:\n",
    "    print('Normal distribution')\n",
    "else:\n",
    "    print('Not a normal distribution')"
   ]
  },
  {
   "cell_type": "code",
   "execution_count": null,
   "metadata": {},
   "outputs": [],
   "source": [
    "#One-way ANOVA: Single independent factor(Categorical)/ single dependent variable(Continuous)\n",
    "import statsmodels.api as sm\n",
    "from statsmodels.formula.api import ols\n",
    "mod = ols('Silt~Grazing+Climate', data = df1).fit()\n",
    "aov = sm.stats.anova_lm(mod, type = 2)\n",
    "print(aov)"
   ]
  },
  {
   "cell_type": "code",
   "execution_count": null,
   "metadata": {},
   "outputs": [],
   "source": [
    "#Two-way ANOVA\n",
    "mod = ols('Silt~Grazing+Climate+Grazing*Climate', data = df1).fit()\n",
    "aov1 = sm.stats.anova_lm(mod, type = 2)\n",
    "print(aov1)"
   ]
  },
  {
   "cell_type": "code",
   "execution_count": null,
   "metadata": {},
   "outputs": [],
   "source": [
    "from statsmodels.stats.multicomp import (pairwise_tukeyhsd, MultiComparison)\n",
    "MultiComp = MultiComparison(df1['Silt'], df1['Climate'])\n",
    "print(MultiComp.tukeyhsd().summary())"
   ]
  }
 ],
 "metadata": {
  "kernelspec": {
   "display_name": "Python 3",
   "language": "python",
   "name": "python3"
  },
  "language_info": {
   "codemirror_mode": {
    "name": "ipython",
    "version": 3
   },
   "file_extension": ".py",
   "mimetype": "text/x-python",
   "name": "python",
   "nbconvert_exporter": "python",
   "pygments_lexer": "ipython3",
   "version": "3.7.4"
  }
 },
 "nbformat": 4,
 "nbformat_minor": 2
}
